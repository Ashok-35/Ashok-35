{
 "cells": [
  {
   "cell_type": "code",
   "execution_count": 1,
   "id": "75f5d690",
   "metadata": {},
   "outputs": [],
   "source": [
    "from bs4 import BeautifulSoup\n",
    "import requests, openpyxl"
   ]
  },
  {
   "cell_type": "code",
   "execution_count": 2,
   "id": "1d45afe4",
   "metadata": {},
   "outputs": [
    {
     "name": "stdout",
     "output_type": "stream",
     "text": [
      "['Sheet']\n",
      "['Top rated IMDB movies']\n"
     ]
    }
   ],
   "source": [
    "excel = openpyxl.Workbook()\n",
    "print(excel.sheetnames)\n",
    "sheet= excel.active\n",
    "sheet.title = 'Top rated IMDB movies'\n",
    "print(excel.sheetnames)"
   ]
  },
  {
   "cell_type": "code",
   "execution_count": 3,
   "id": "d6de806b",
   "metadata": {},
   "outputs": [],
   "source": [
    "sheet.append(['Rank','Movie Name','Year','IMDB Rating'])"
   ]
  },
  {
   "cell_type": "code",
   "execution_count": 4,
   "id": "cc7ef719",
   "metadata": {},
   "outputs": [],
   "source": [
    "try:\n",
    "    source = requests.get('https://www.imdb.com/chart/top')\n",
    "    source.raise_for_status()\n",
    "    \n",
    "    soup = BeautifulSoup(source.text, 'html.parser')\n",
    "    \n",
    "    movies = soup.find('tbody', class_ = 'lister-list').find_all('tr')\n",
    "    \n",
    "    for movie in movies:\n",
    "        \n",
    "        name= movie.find('td', class_ ='titleColumn').a.text \n",
    "        \n",
    "        rank = movie.find('td', class_ ='titleColumn').get_text(strip=True).split('.')[0]\n",
    "        \n",
    "        year = movie.find('td', class_ ='titleColumn').span.text.strip('()')\n",
    "        \n",
    "        rating = movie.find('td', class_ = 'ratingColumn').strong.text\n",
    "        \n",
    "        sheet.append([rank,name,year,rating])\n",
    "        \n",
    "except Exception as e:\n",
    "    print(e)"
   ]
  },
  {
   "cell_type": "code",
   "execution_count": 5,
   "id": "6a008465",
   "metadata": {},
   "outputs": [],
   "source": [
    "excel.save('IMDB top rated movies.xlsx')"
   ]
  },
  {
   "cell_type": "code",
   "execution_count": null,
   "id": "3bcd3a8d",
   "metadata": {},
   "outputs": [],
   "source": []
  }
 ],
 "metadata": {
  "kernelspec": {
   "display_name": "Python 3 (ipykernel)",
   "language": "python",
   "name": "python3"
  },
  "language_info": {
   "codemirror_mode": {
    "name": "ipython",
    "version": 3
   },
   "file_extension": ".py",
   "mimetype": "text/x-python",
   "name": "python",
   "nbconvert_exporter": "python",
   "pygments_lexer": "ipython3",
   "version": "3.9.7"
  }
 },
 "nbformat": 4,
 "nbformat_minor": 5
}
